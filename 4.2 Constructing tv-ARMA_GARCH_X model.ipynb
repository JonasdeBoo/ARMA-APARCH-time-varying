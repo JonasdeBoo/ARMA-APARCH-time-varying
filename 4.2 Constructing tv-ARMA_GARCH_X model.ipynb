{
 "cells": [
  {
   "cell_type": "markdown",
   "metadata": {},
   "source": [
    "# 4. Constructing AR-GARCH-X model"
   ]
  },
  {
   "cell_type": "markdown",
   "metadata": {},
   "source": [
    "This template is used to calculate and show plots of the AR-GARCH-X model, which makes use of the ArGarchX class. This class has several methods in order to compute, with the help of the Maximum Likelihood method the estimators that maximize the Quasi Log Likelihood. Via this template several models will be constructed and tested, in order to check the effect of public sentiment on volatility, and it will be checked whether adding these variables increases predictive accuracy."
   ]
  },
  {
   "cell_type": "markdown",
   "metadata": {},
   "source": [
    "## 4.1. Load packages and data"
   ]
  },
  {
   "cell_type": "markdown",
   "metadata": {},
   "source": [
    "Here, load the packages, data and colors for the main analysis and for the construction of plots, also define export locations"
   ]
  },
  {
   "cell_type": "markdown",
   "metadata": {},
   "source": [
    "### 4.1.1. Load packages"
   ]
  },
  {
   "cell_type": "code",
   "execution_count": 1,
   "metadata": {},
   "outputs": [],
   "source": [
    "# import packages\n",
    "import pandas as pd\n",
    "import numpy as np\n",
    "import matplotlib.pyplot as plt\n",
    "import seaborn as sns\n",
    "from ast import literal_eval\n",
    "import os, sys\n",
    "import itertools\n",
    "from datetime import datetime\n",
    "from scipy.stats import chi2\n",
    "from scipy.stats import norm\n",
    "\n",
    "# Load data that returns tweets\n",
    "sys.path.insert(0, os.path.abspath(r'C:\\Users\\Jonas\\PycharmProjects\\TwitterSentimentGARCH2021\\Code\\GARCH model\\tvGARCH models'))\n",
    "from tv_garch_models import tvArmaApARCHX, tvArmaXapARCH, tvArmaApArchXGarch\n",
    "from tv_garch_estimation import QuasiMaximumLikelihoodEstimator\n",
    "\n",
    "# Surpress warnings\n",
    "import warnings\n",
    "warnings.filterwarnings(\"ignore\")"
   ]
  },
  {
   "cell_type": "markdown",
   "metadata": {},
   "source": [
    "### 4.1.2. Colors for plots"
   ]
  },
  {
   "cell_type": "code",
   "execution_count": 2,
   "metadata": {},
   "outputs": [],
   "source": [
    "colors = ['seagreen', 'mediumaquamarine', 'steelblue', 'cornflowerblue', 'navy', 'black']"
   ]
  },
  {
   "cell_type": "markdown",
   "metadata": {},
   "source": [
    "### 4.1.3. Load data"
   ]
  },
  {
   "cell_type": "markdown",
   "metadata": {},
   "source": [
    "Load company name data and DataFrame per company containing all the sentiment, return and control variable data"
   ]
  },
  {
   "cell_type": "code",
   "execution_count": 3,
   "metadata": {},
   "outputs": [],
   "source": [
    "# Specify location of data + file name and location of storage\n",
    "company_loc = r'C:\\Users\\Jonas\\Documents\\Data'\n",
    "file_name_comp = '\\company_ticker_list_all.xlsx'\n",
    "\n",
    "# Access company names DataFrame\n",
    "df_comp_names = pd.read_excel(company_loc + file_name_comp)"
   ]
  },
  {
   "cell_type": "markdown",
   "metadata": {},
   "source": [
    "Specify location where all company specific data is stored"
   ]
  },
  {
   "cell_type": "code",
   "execution_count": 4,
   "metadata": {},
   "outputs": [],
   "source": [
    "# Specify name and location\n",
    "data_loc = r'C:\\Users\\Jonas\\Documents\\Data\\Total_data'"
   ]
  },
  {
   "cell_type": "markdown",
   "metadata": {},
   "source": [
    "Specify location where to store results"
   ]
  },
  {
   "cell_type": "code",
   "execution_count": 5,
   "metadata": {},
   "outputs": [],
   "source": [
    "# Specify location where daily sentiment scores must be stored\n",
    "store_loc = r'C:\\Users\\Jonas\\Documents\\Data\\Results'"
   ]
  },
  {
   "cell_type": "markdown",
   "metadata": {},
   "source": [
    "## 4.2. Analysis"
   ]
  },
  {
   "cell_type": "markdown",
   "metadata": {},
   "source": [
    "This section performs the main analysis and will calculate the results for each company in the selection."
   ]
  },
  {
   "cell_type": "markdown",
   "metadata": {},
   "source": [
    "### 4.2.1. Create models"
   ]
  },
  {
   "cell_type": "markdown",
   "metadata": {},
   "source": [
    "First, create the different columns in the total dataset that need to be evaluated and serve as input into the models"
   ]
  },
  {
   "cell_type": "code",
   "execution_count": 6,
   "metadata": {},
   "outputs": [],
   "source": [
    "# Define possible exogenous columns\n",
    "control_cols = ['VIX', 'TEDRATE']\n",
    "sent_cols = ['sentiment', 'n_tweets', 'n_interactions']\n",
    "\n",
    "# Define data on which to impose GARCH structure, and provide column names\n",
    "x_garch_cols = [f'sigma2_{col}' for col in sent_cols]"
   ]
  },
  {
   "cell_type": "markdown",
   "metadata": {},
   "source": [
    "### 4.2.2. Calculate optimal number of lags"
   ]
  },
  {
   "cell_type": "markdown",
   "metadata": {},
   "source": [
    "Do a grid search for various values of h, in the second model, where the sentiment variables enter the model in the conditional volatility equation. The value for h that maximizes the QLL is used throughout the research."
   ]
  },
  {
   "cell_type": "code",
   "execution_count": 8,
   "metadata": {
    "scrolled": true
   },
   "outputs": [
    {
     "name": "stdout",
     "output_type": "stream",
     "text": [
      "Likelihood with the smooth transition operator h = 10 is -1.9486271886993813\n",
      "Likelihood with the smooth transition operator h = 15 is -1.945442916947736\n",
      "Likelihood with the smooth transition operator h = 25 is -1.9457677823207047\n",
      "Likelihood with the smooth transition operator h = 50 is -1.9448963750649415\n",
      "Likelihood with the smooth transition operator h = 100 is -1.9448924266510739\n",
      "Among the suggested values for h, the best value is 100, with likelihood 100\n",
      "Likelihood with the smooth transition operator h = 10 is -2.2142867220679365\n",
      "Likelihood with the smooth transition operator h = 15 is -2.2136188830748833\n",
      "Likelihood with the smooth transition operator h = 25 is -2.2129875986274072\n",
      "Likelihood with the smooth transition operator h = 50 is -2.2170652166586855\n",
      "Likelihood with the smooth transition operator h = 100 is -2.2169744038915837\n",
      "Among the suggested values for h, the best value is 25, with likelihood 100\n",
      "Likelihood with the smooth transition operator h = 10 is -1.602168927746788\n",
      "Likelihood with the smooth transition operator h = 15 is -1.6014203420118363\n",
      "Likelihood with the smooth transition operator h = 25 is -1.6008433958850476\n",
      "Likelihood with the smooth transition operator h = 50 is -1.6007905779719827\n",
      "Likelihood with the smooth transition operator h = 100 is -1.6007442529752283\n",
      "Among the suggested values for h, the best value is 100, with likelihood 100\n",
      "Likelihood with the smooth transition operator h = 10 is -0.9424797873337744\n",
      "Likelihood with the smooth transition operator h = 15 is -0.9400180455637255\n",
      "Likelihood with the smooth transition operator h = 25 is -0.9373015463359264\n",
      "Likelihood with the smooth transition operator h = 50 is -0.9376505534620094\n",
      "Likelihood with the smooth transition operator h = 100 is -0.9376976496927871\n",
      "Among the suggested values for h, the best value is 25, with likelihood 100\n",
      "Likelihood with the smooth transition operator h = 10 is -1.4376670349380594\n",
      "Likelihood with the smooth transition operator h = 15 is -1.4371476443212508\n",
      "Likelihood with the smooth transition operator h = 25 is -1.4373672105653592\n",
      "Likelihood with the smooth transition operator h = 50 is -1.4382469709566381\n",
      "Likelihood with the smooth transition operator h = 100 is -1.438244250644682\n",
      "Among the suggested values for h, the best value is 15, with likelihood 100\n",
      "Likelihood with the smooth transition operator h = 10 is -0.9947884144978786\n",
      "tolerance level is changed to 1e-06\n",
      "     fun: 0.9959524632683573\n",
      "     jac: array([ 1.41133449e-04, -2.10201620e-04, -4.86270841e-04,  2.94578994e-04,\n",
      "        3.86799322e-05,  7.24769712e-04,  2.43765496e-02,  1.03891465e-03,\n",
      "        2.19506799e-04, -1.40345608e-03,  2.37902283e-04,  1.08807651e-04,\n",
      "       -1.80865263e-04, -8.79011569e-05,  8.25398205e-05, -2.82193229e-05,\n",
      "       -3.03968938e-05,  3.03948866e-01,  4.35631820e-04,  2.54088437e-01,\n",
      "       -8.74161888e-04,  4.02937163e-01,  9.83309422e-02])\n",
      " message: 'Optimization terminated successfully'\n",
      "    nfev: 265\n",
      "     nit: 223\n",
      "    njev: 222\n",
      "  status: 0\n",
      " success: True\n",
      "       x: array([ 9.08599849e-02, -6.70751888e-01,  6.56639046e-01,  1.95069251e-01,\n",
      "        4.29282128e-02,  6.70479105e-01,  1.00000000e-10,  3.60361561e-02,\n",
      "        1.40272224e-01,  9.99990000e-01, -6.01712148e-01, -5.59324951e-01,\n",
      "       -3.14648103e-01,  5.27562846e-01, -3.95300601e-01,  2.97179226e-01,\n",
      "        1.57870619e-02,  1.00000000e-10,  4.61340374e-03,  1.00001113e-10,\n",
      "        1.29420925e-02,  1.00000000e-10,  9.99999000e-05])\n",
      "Likelihood with the smooth transition operator h = 15 is -0.9959524632683573\n",
      "Likelihood with the smooth transition operator h = 25 is -0.9964777006240203\n",
      "Likelihood with the smooth transition operator h = 50 is -1.001618596794237\n",
      "Likelihood with the smooth transition operator h = 100 is -0.9961972414719148\n",
      "Among the suggested values for h, the best value is 10, with likelihood 100\n",
      "Likelihood with the smooth transition operator h = 10 is -1.7078614393547493\n",
      "Likelihood with the smooth transition operator h = 15 is -1.7086001266632833\n",
      "Likelihood with the smooth transition operator h = 25 is -1.707822141106606\n",
      "Likelihood with the smooth transition operator h = 50 is -1.7079352665586314\n",
      "Likelihood with the smooth transition operator h = 100 is -1.7077764511358002\n",
      "Among the suggested values for h, the best value is 100, with likelihood 100\n",
      "Likelihood with the smooth transition operator h = 10 is -3.161908176929239\n",
      "Likelihood with the smooth transition operator h = 15 is -3.1732104157883234\n",
      "Likelihood with the smooth transition operator h = 25 is -3.165988609642477\n",
      "Likelihood with the smooth transition operator h = 50 is -3.167094820710852\n",
      "tolerance level is changed to 1e-06\n",
      "     fun: 3.141294113566978\n",
      "     jac: array([ 2.45940221e-06, -1.07665772e-04,  7.75505543e-05, -3.28317789e-05,\n",
      "        1.16305918e-04, -4.65860588e-06, -3.32214336e-05,  2.29091074e-02,\n",
      "        4.44208226e-02, -2.33369455e-04,  1.19826868e-02,  1.98382951e-06,\n",
      "       -2.43804422e-05,  7.95704869e-06, -6.40825365e-04, -1.76300835e-04,\n",
      "       -2.88054484e-04, -4.93121630e-04, -7.67790560e-05,  4.34902296e-02,\n",
      "        2.06939584e-05,  4.52671835e-03,  4.53969657e-06, -8.86952511e-05,\n",
      "       -1.39676948e-05])\n",
      " message: 'Optimization terminated successfully'\n",
      "    nfev: 155\n",
      "     nit: 130\n",
      "    njev: 130\n",
      "  status: 0\n",
      " success: True\n",
      "       x: array([ 5.41732248e-01, -8.16265522e-01, -9.67494507e-01,  8.17462414e-01,\n",
      "        9.62517359e-01,  5.57828393e+00,  1.14717176e+00,  9.99998991e-05,\n",
      "        1.00000000e-10,  2.08375302e-01,  1.00001720e-10, -4.04162109e-01,\n",
      "        5.13996537e-01, -4.63571588e-01,  1.00000000e+00,  9.21985244e-02,\n",
      "        9.07791476e-01,  9.99990000e-01, -3.48760878e-05,  1.00000000e-10,\n",
      "        5.55345107e+00,  1.00000000e-10,  1.81996778e+00,  5.34838747e+00,\n",
      "        1.16501069e-01])\n",
      "Likelihood with the smooth transition operator h = 100 is -3.141294113566978\n",
      "Among the suggested values for h, the best value is 100, with likelihood 100\n",
      "tolerance level is changed to 1e-06\n",
      "     fun: 1.8062644009521451\n",
      "     jac: array([ 5.64365250e-06, -3.75800379e-04,  2.39488443e-04, -5.49555704e-05,\n",
      "        2.19063133e-04,  5.37574541e-04,  1.45826266e-02,  1.66603941e-03,\n",
      "        6.66442444e-03,  7.15426443e-04,  2.89756779e-04,  4.36435992e-05,\n",
      "       -2.87506056e-04, -1.74941067e-04, -6.00475468e-04,  2.02797107e-04,\n",
      "        3.51548690e-04, -8.03541920e-04,  1.21339559e-04,  8.94246952e-02,\n",
      "        4.43770957e-04,  2.12327433e-02,  1.12267473e-05, -1.52609834e-04,\n",
      "        6.03370641e-04])\n",
      " message: 'Optimization terminated successfully'\n",
      "    nfev: 91\n",
      "     nit: 82\n",
      "    njev: 82\n",
      "  status: 0\n",
      " success: True\n",
      "       x: array([ 1.39630327e-01, -6.27532228e-01, -5.02215592e-02, -4.10211165e-02,\n",
      "        5.93130996e-01,  7.29365142e-01,  1.00000000e-10,  4.69655657e-01,\n",
      "        1.00000000e-10,  5.70469162e-02,  1.03801839e-01,  9.77291726e-01,\n",
      "       -4.97643182e-01, -9.99990000e-06,  1.00000000e+00,  6.05353537e-01,\n",
      "       -6.12524482e-02,  9.99990000e-01, -8.07245518e-03,  1.00000000e-10,\n",
      "        1.40036996e-01,  1.00000089e-10,  7.73691476e-01,  1.13162318e+00,\n",
      "        1.00002444e-10])\n",
      "Likelihood with the smooth transition operator h = 10 is -1.8062644009521451\n",
      "Likelihood with the smooth transition operator h = 15 is -1.806728128898963\n",
      "Likelihood with the smooth transition operator h = 25 is -1.8072376884580794\n",
      "Likelihood with the smooth transition operator h = 50 is -1.8066499609033309\n",
      "Likelihood with the smooth transition operator h = 100 is -1.8069195939159968\n",
      "Among the suggested values for h, the best value is 10, with likelihood 100\n",
      "Likelihood with the smooth transition operator h = 10 is -2.3316322183228935\n",
      "tolerance level is changed to 1e-06\n",
      "     fun: 2.3386762672112575\n",
      "     jac: array([ 6.66894219e-05,  2.15205057e-04,  2.44621501e-04, -1.25820625e-05,\n",
      "        3.85760487e-02, -6.59544514e-04, -6.34554652e-04, -1.54484191e-03,\n",
      "       -1.39890993e-03, -1.49706557e-04, -1.46259786e-04, -1.17277791e-04,\n",
      "       -4.08851410e-05, -7.16415973e-06, -4.17195994e-06,  2.11958063e-05,\n",
      "        2.78696079e-05, -2.27970257e-04,  3.09288042e-02,  1.49887123e-01,\n",
      "        4.71530541e-02, -4.02372817e-05,  6.80664125e-03])\n",
      " message: 'Optimization terminated successfully'\n",
      "    nfev: 228\n",
      "     nit: 174\n",
      "    njev: 174\n",
      "  status: 0\n",
      " success: True\n",
      "       x: array([ 1.41080864e-01, -7.38472062e-01,  7.11114152e-01,  7.55167026e-02,\n",
      "        1.00000000e-10,  7.59527568e-01,  4.21472164e-02,  5.67322927e-02,\n",
      "        4.10543843e-03,  9.88118435e-01,  4.98602217e-04,  2.64258660e-01,\n",
      "       -5.47998417e-02,  1.01940985e-01, -5.39312029e-01,  5.90612558e-01,\n",
      "        9.86192627e-02,  2.09127004e-01,  1.00000527e-10,  1.00000000e-10,\n",
      "        9.99999000e-05,  9.62314171e-01,  1.00000014e-10])\n",
      "Likelihood with the smooth transition operator h = 15 is -2.3386762672112575\n"
     ]
    },
    {
     "name": "stdout",
     "output_type": "stream",
     "text": [
      "Likelihood with the smooth transition operator h = 25 is -2.3356617764162237\n",
      "Likelihood with the smooth transition operator h = 50 is -2.335805803051859\n",
      "Likelihood with the smooth transition operator h = 100 is -2.3358096475272343\n",
      "Among the suggested values for h, the best value is 10, with likelihood 100\n",
      "Likelihood with the smooth transition operator h = 10 is -3.3554292120486244\n",
      "tolerance level is changed to 1e-06\n",
      "     fun: 3.360083893148399\n",
      "     jac: array([-4.93231353e-05, -1.69740006e-04, -2.41364294e-04,  5.17437158e-04,\n",
      "        4.62912538e-05,  1.00019976e-02, -6.18667413e-04,  8.49760164e-02,\n",
      "       -6.21259180e-07,  4.33937221e-02, -1.95067300e-04, -2.53515904e-05,\n",
      "       -3.05844369e-04,  1.01929660e-04, -7.67816283e-06, -8.42864981e-06,\n",
      "        3.37924490e-06, -1.33494709e-04,  1.74767458e-05, -1.70873845e-04,\n",
      "       -8.04861683e-05,  1.18860028e-02,  7.24611762e-02,  5.36260744e-02,\n",
      "        8.20429118e-05, -1.54785165e-04, -1.25908803e-03, -1.43251487e-04])\n",
      " message: 'Optimization terminated successfully'\n",
      "    nfev: 165\n",
      "     nit: 148\n",
      "    njev: 148\n",
      "  status: 0\n",
      " success: True\n",
      "       x: array([ 1.54143579e-01, -1.76291902e-01,  1.64165337e-01, -1.00701341e-02,\n",
      "        2.56787801e-01,  1.00000000e-10,  9.14649569e-01,  1.00000098e-10,\n",
      "        4.65639780e-02,  1.00000537e-10, -9.77005806e-02,  2.54184605e-01,\n",
      "        9.97533384e-01, -1.94878377e-01, -1.84882933e-01, -2.31349905e-01,\n",
      "        9.99426282e-01,  5.63718353e-04, -9.99990000e-01,  1.00000000e+00,\n",
      "        3.45668925e-02,  1.00000666e-10,  1.00001774e-10,  9.99999000e-05,\n",
      "        1.76737449e-01,  6.76257630e-02,  1.24851225e-03,  3.27540225e-02])\n",
      "Likelihood with the smooth transition operator h = 15 is -3.360083893148399\n",
      "Likelihood with the smooth transition operator h = 25 is -3.413032698705765\n",
      "Likelihood with the smooth transition operator h = 50 is -3.3595480683919234\n",
      "Likelihood with the smooth transition operator h = 100 is -3.361641791795353\n",
      "Among the suggested values for h, the best value is 10, with likelihood 100\n",
      "Likelihood with the smooth transition operator h = 10 is -1.1889379910456939\n",
      "Likelihood with the smooth transition operator h = 15 is -1.174597337977173\n",
      "Likelihood with the smooth transition operator h = 25 is -1.1732931516098881\n",
      "Likelihood with the smooth transition operator h = 50 is -1.172394453540055\n",
      "tolerance level is changed to 1e-06\n",
      "     fun: 1.172723637688962\n",
      "     jac: array([ 4.79058469e-05, -8.10142599e-04,  3.18383346e-04, -2.62975835e-04,\n",
      "        1.05176738e-03,  2.61993430e-03,  4.44457269e-03,  6.34460616e-04,\n",
      "        6.34522207e-04,  5.77373493e-03, -1.81092526e-04, -9.79789267e-05,\n",
      "       -2.93866806e-06, -2.71357599e-06, -1.00964499e-07, -4.26719402e-07,\n",
      "        7.41222731e-05,  1.09922103e-04,  1.33552318e-01,  2.33654928e-02,\n",
      "        1.23548188e-01,  2.52055310e-03, -1.12413378e-05,  1.87799997e-04])\n",
      " message: 'Optimization terminated successfully'\n",
      "    nfev: 40\n",
      "     nit: 32\n",
      "    njev: 32\n",
      "  status: 0\n",
      " success: True\n",
      "       x: array([ 8.45508898e-02, -5.01069768e-01, -6.82638543e-02,  4.51602761e-01,\n",
      "        7.03974633e-01,  1.00000069e-10,  1.00000010e-10,  4.26444999e-01,\n",
      "        2.97056908e-01,  1.00000014e-10,  1.98592963e-01, -1.60925269e-01,\n",
      "       -7.27128336e-01,  8.23441318e-01,  3.70033152e-01,  1.75357313e-01,\n",
      "        7.96235864e-01, -6.95090849e-02,  1.00000027e-10,  9.99999000e-05,\n",
      "        1.00000193e-10,  9.99999000e-05,  1.82589474e-03,  1.14139652e-01])\n",
      "Likelihood with the smooth transition operator h = 100 is -1.172723637688962\n",
      "Among the suggested values for h, the best value is 50, with likelihood 100\n"
     ]
    }
   ],
   "source": [
    "# Find lags specification for each model\n",
    "df_model_specification = pd.read_csv(data_loc + f'\\\\lags\\\\model_params.csv')\n",
    "\n",
    "# For every company in the dataset, read the data and construct the appropriate model\n",
    "for company in df_comp_names['Company']:\n",
    "    \n",
    "    # Read data\n",
    "    data_name = f'\\\\total data {company}.csv' \n",
    "    \n",
    "    # Get df_total\n",
    "    df_total = pd.read_csv(data_loc + data_name)\n",
    "       \n",
    "    # Drop NaNs\n",
    "    df_total = df_total.fillna(0)\n",
    "    \n",
    "    # Unpack the optimal lags of the ARMA procedure from df_model_specification\n",
    "    lags_per_model = [literal_eval(x) for x in df_model_specification[company]]\n",
    "    lags_arma = list(lags_per_model[0])\n",
    "    \n",
    "    # Calculate optimal parameters for each model\n",
    "    h_vals = [10, 15, 25, 50, 100]\n",
    "    dict_h = {}\n",
    "    \n",
    "    for h in h_vals:   \n",
    "        qmle = QuasiMaximumLikelihoodEstimator(df_total, 'returns', control_cols, h, lags_arma,\n",
    "                                               sent_cols, list(lags_per_model[2]), params=None, \n",
    "                                               model_type='asym')\n",
    "    \n",
    "        minimization_result, psi_hat, likelihood, df_params = qmle.optimize_likelihood()\n",
    "        \n",
    "        dict_h[h] = likelihood\n",
    "    \n",
    "        print(f\"Likelihood with the smooth transition operator h = {h} is {likelihood}\")\n",
    "        \n",
    "    print(f\"Among the suggested values for h, the best value is {max(dict_h, key=dict_h.get)}, with likelihood {max(dict_h)}\")"
   ]
  },
  {
   "cell_type": "markdown",
   "metadata": {},
   "source": [
    "### 4.2.3. Calculate optimal time-varying parameters and standard errors"
   ]
  },
  {
   "cell_type": "markdown",
   "metadata": {},
   "source": [
    "In this section, for each model, the optimal parameters are calculated and the standard error of these parameters. "
   ]
  },
  {
   "cell_type": "code",
   "execution_count": null,
   "metadata": {},
   "outputs": [],
   "source": [
    "h = max(dict_h, key=dict_h.get)"
   ]
  },
  {
   "cell_type": "code",
   "execution_count": null,
   "metadata": {
    "scrolled": true
   },
   "outputs": [],
   "source": [
    "# Find lags specification for each model\n",
    "df_model_specification = pd.read_csv(data_loc + f'\\\\lags\\\\model_params.csv')\n",
    "\n",
    "# For every company in the dataset, read the data and construct the appropriate model\n",
    "for company in df_comp_names['Company']:\n",
    "    \n",
    "    # Read data\n",
    "    data_name = f'\\\\total data {company}.csv' \n",
    "    \n",
    "    # Get df_total\n",
    "    df_total = pd.read_csv(data_loc + data_name)\n",
    "       \n",
    "    # Drop NaNs\n",
    "    df_total = df_total.fillna(0)\n",
    "    \n",
    "    # Unpack the optimal lags of the ARMA procedure from df_model_specification\n",
    "    lags_per_model = [literal_eval(x) for x in df_model_specification[company]]\n",
    "    lags_arma = list(lags_per_model[0])\n",
    "    \n",
    "    # Calculate optimal parameters for each model\n",
    "    \n",
    "    # - Benchmark model\n",
    "    #qmle = QuasiMaximumLikelihoodEstimator(df_total, 'returns', control_cols, lags_arma)\n",
    "    \n",
    "    #minimization_result, psi_hat, likelihood, df_params = qmle.optimize_likelihood()\n",
    "    \n",
    "    #vcov = qmle.vcov(psi_hat)\n",
    "    #df_params['errors'] = np.sqrt(np.diag(vcov))\n",
    "    #df_params['t-stat'] = psi_hat / np.sqrt(np.diag(vcov))\n",
    "    \n",
    "    \n",
    "    # - Model ARMA-X-apARCH\n",
    "    qmle1 = QuasiMaximumLikelihoodEstimator(df_total, 'returns', control_cols, h, lags_arma,\n",
    "                                            sent_cols, list(lags_per_model[1]), params=None, \n",
    "                                            model_type='mean-x')\n",
    "    \n",
    "    minimization_result1, psi_hat1, likelihood1, df_params1 = qmle1.optimize_likelihood()\n",
    "    \n",
    "    vcov1 = qmle1.vcov(psi_hat1)\n",
    "    df_params1['errors'] = np.sqrt(np.diag(vcov1))\n",
    "    df_params1['t-stat'] = psi_hat1 / np.sqrt(np.diag(vcov1))\n",
    "    \n",
    "    # - Model ARMA-apARCH-X\n",
    "    qmle2 = QuasiMaximumLikelihoodEstimator(df_total, 'returns', control_cols, h, lags_arma,\n",
    "                                            sent_cols, list(lags_per_model[2]), params=None, \n",
    "                                            model_type='asym')\n",
    "    \n",
    "    minimization_result2, psi_hat2, likelihood2, df_params2 = qmle2.optimize_likelihood()\n",
    "    \n",
    "    vcov2 = qmle2.vcov(psi_hat2)\n",
    "    df_params2['errors'] = np.sqrt(np.diag(vcov2))\n",
    "    df_params2['t-stat'] = psi_hat2  /  np.sqrt(np.diag(vcov2))\n",
    "    \n",
    "    # - Model ARMA-apARCH-(X-ARMA-GARCH)\n",
    "    exog_lags = list(lags_per_model[3])[:len(sent_cols)]\n",
    "    x_garch_lags = list(lags_per_model[3])[len(sent_cols):]\n",
    "    qmle3 = QuasiMaximumLikelihoodEstimator(df_total, 'returns', control_cols, h, lags_arma,\n",
    "                                            sent_cols, exog_lags, params=None,\n",
    "                                            model_type='x-garch', x_garch_cols=x_garch_cols, \n",
    "                                            x_garch_lags=x_garch_lags)\n",
    "    \n",
    "    minimization_result3, psi_hat3, likelihood3, df_params3 = qmle3.optimize_likelihood()\n",
    "    \n",
    "    vcov3 = qmle3.vcov(psi_hat3)\n",
    "    df_params3['errors'] = np.sqrt(np.diag(vcov3))\n",
    "    df_params3['t-stat'] = psi_hat3  / np.sqrt(np.diag(vcov3))\n",
    "    \n",
    "    # Store all parameters into a .csv file\n",
    "    #df_params.to_csv(data_loc + f'\\\\parameters\\\\benchmark\\\\tv params {company}.csv', index=False)\n",
    "    df_params1.to_csv(data_loc + f'\\\\parameters\\\\model1\\\\tv params {company}.csv', index=False)\n",
    "    df_params2.to_csv(data_loc + f'\\\\parameters\\\\model2\\\\tv params {company}.csv', index=False)\n",
    "    df_params3.to_csv(data_loc + f'\\\\parameters\\\\model3\\\\tv params {company}.csv', index=False)"
   ]
  },
  {
   "cell_type": "markdown",
   "metadata": {},
   "source": [
    "Define a Likelihood calculation functionality that can be used to quickly calculate the likelihood given residuals and conditional volatility"
   ]
  },
  {
   "cell_type": "code",
   "execution_count": null,
   "metadata": {},
   "outputs": [],
   "source": [
    "def quasi_log_likelihood(sigma2, et):\n",
    "    # QMLE from Franq and Thieu\n",
    "    lls = np.log(sigma2) + ((et ** 2) / sigma2) + np.log(2 * np.pi)\n",
    "\n",
    "    # Calculate Quasi Maximum Likelihood\n",
    "    ll = np.nan_to_num(lls).sum()\n",
    "\n",
    "    return -ll"
   ]
  },
  {
   "cell_type": "markdown",
   "metadata": {},
   "source": [
    "## 4.3. Summary of results"
   ]
  },
  {
   "cell_type": "markdown",
   "metadata": {},
   "source": [
    "Here, calculate and plot the constructed values of the conditional volatility model, conditional mean model and the distribution of the innovations $z_t$."
   ]
  },
  {
   "cell_type": "code",
   "execution_count": null,
   "metadata": {
    "scrolled": true
   },
   "outputs": [],
   "source": [
    "# Find lags specification for each model\n",
    "df_model_specification = pd.read_csv(data_loc + f'\\\\lags\\\\model_params.csv')\n",
    "\n",
    "# For every company in the dataset, read the data and construct the appropriate model\n",
    "for company in df_comp_names['Company']:    \n",
    "    # Read data\n",
    "    data_name = f'\\\\total data {company}.csv' \n",
    "    \n",
    "    # Get df_total\n",
    "    df_total = pd.read_csv(data_loc + data_name)\n",
    "       \n",
    "    # Drop NaNs\n",
    "    df_total = df_total.fillna(0)\n",
    "    \n",
    "    # Unpack the optimal lags of the ARMA procedure from df_model_specification\n",
    "    lags_per_model = [literal_eval(x) for x in df_model_specification[company]]\n",
    "    lags_arma = list(lags_per_model[0])\n",
    "    \n",
    "    # Open parameter files\n",
    "    df_params = pd.read_csv(data_loc + f'\\\\parameters\\\\benchmark\\\\tv params {company}.csv')\n",
    "    df_params1 = pd.read_csv(data_loc + f'\\\\parameters\\\\model1\\\\tv params {company}.csv')\n",
    "    df_params2 = pd.read_csv(data_loc + f'\\\\parameters\\\\model2\\\\tv params {company}.csv')\n",
    "    df_params3 = pd.read_csv(data_loc + f'\\\\parameters\\\\model3\\\\tv params {company}.csv')\n",
    "    \n",
    "    # Calculate sigma2 values for each model\n",
    "    benchmark = tvArmaApARCHX(df_total, 'returns', control_cols, h, lags_arma, params=df_params['psi_hat'].tolist())\n",
    "    \n",
    "    \n",
    "    model1 = tvArmaXapARCH(df_total, 'returns', control_cols, h, lags_arma, sent_cols, list(lags_per_model[1]), \n",
    "                         params = df_params1['psi_hat'].tolist())\n",
    "    \n",
    "    model2 = tvArmaApARCHX(df_total, 'returns', control_cols, h, lags_arma, sent_cols, list(lags_per_model[2]), \n",
    "                         params = df_params2['psi_hat'].tolist())\n",
    "    \n",
    "    exog_lags = list(lags_per_model[3])[:len(sent_cols)]\n",
    "    x_garch_lags = list(lags_per_model[3])[len(sent_cols):]\n",
    "    \n",
    "    model3 = tvArmaApArchXGarch(df_total, 'returns', control_cols, h, lags_arma, sent_cols, exog_lags, \n",
    "                              params = df_params3['psi_hat'].tolist(),\n",
    "                              xgarch_cols=x_garch_cols, lag_exog_sigma=x_garch_lags)\n",
    "    \n",
    "    sigma2, et = benchmark.conditional_volatility()\n",
    "    sigma2_1, et_1 = model1.conditional_volatility()\n",
    "    sigma2_2, et_2 = model2.conditional_volatility()\n",
    "    sigma2_3, et_3 = model3.conditional_volatility()\n",
    "    \n",
    "    vars_, ets = [sigma2_1, sigma2_2, sigma2_3], [et_1, et_2, et_3]\n",
    "    \n",
    "    # Calculate likelihood for all models\n",
    "    ll_benchmark = quasi_log_likelihood(sigma2, et)\n",
    "    ll_1, ll_2, ll_3 = quasi_log_likelihood(sigma2_1, et_1), quasi_log_likelihood(sigma2_2, et_2), quasi_log_likelihood(sigma2_3, et_3)\n",
    "    likelihoods = [ll_1, ll_2, ll_3]\n",
    "    \n",
    "    # Now, construct plots for all models\n",
    "    fig, axs = plt.subplots(figsize = (20,4), nrows = 1, ncols = 3)\n",
    "    \n",
    "    first_date, last_date = df_total.date.iloc[0], df_total.date.iloc[-1]\n",
    "    n = 150  # keeps every 150th label (around half a year)\n",
    "\n",
    "    for j in range(len(axs)):\n",
    "        axs[j].plot(np.sqrt(ets[j] ** 2), c='black', linestyle='-.', alpha=0.7)\n",
    "        axs[j].plot(np.sqrt(sigma2), c='yellow', linestyle='--', alpha=0.85)\n",
    "        axs[j].plot(np.sqrt(vars_[j]), c=colors[j], alpha=0.7)\n",
    "        \n",
    "        # Set title and xticklabels\n",
    "        axs[j].set_title(f'Conditional volatility of: {company}' + '\\n' f'LR {-2*(ll_benchmark - likelihoods[j])}' + '\\n' + f'Period: {first_date} to {last_date}')\n",
    "    \n",
    "    plt.tight_layout()\n",
    "    \n",
    "    # Plot KDE plot of innovations\n",
    "    z_ts = [et_1 /np.sqrt(sigma2_1), et_2 / np.sqrt(sigma2_2), et_3 / np.sqrt(sigma2_3)]\n",
    "\n",
    "    fig2, axs = plt.subplots(figsize = (20,4), nrows = 1, ncols = len(z_ts))\n",
    "    for i, ax in enumerate(axs):\n",
    "        sns.kdeplot(z_ts[i], ax=ax, color=colors[i])\n",
    "        ax2 = ax.twinx()\n",
    "        ax2.hist(z_ts[i], color=colors[i+2], bins=25, rwidth=0.9)\n",
    "\n",
    "    plt.tight_layout()\n",
    "    \n",
    "    # Store figures as PNG\n",
    "    fig.savefig(store_loc + f'\\\\plots\\\\tv plot conditional vol {company}')\n",
    "    fig2.savefig(store_loc + f'\\\\plots\\\\tv kde plot of innovations of {company}')"
   ]
  },
  {
   "cell_type": "markdown",
   "metadata": {},
   "source": [
    "## 4.5 Export parameter DataFrames"
   ]
  },
  {
   "cell_type": "markdown",
   "metadata": {},
   "source": [
    "This section creates and exports the DataFrames with parameter estimates of each model included in this research for all companies in this research."
   ]
  },
  {
   "cell_type": "code",
   "execution_count": null,
   "metadata": {
    "scrolled": true
   },
   "outputs": [],
   "source": [
    "# Create empty DataFrames to store results in\n",
    "df_psi_hat_1 = pd.DataFrame()\n",
    "df_psi_hat_2 = pd.DataFrame()\n",
    "df_psi_hat_3 = pd.DataFrame()\n",
    "\n",
    "for i in range(len(df_comp_names['Company'])):\n",
    "    company = df_comp_names['Company'].iloc[i]\n",
    "\n",
    "    # Store all parameters into a .csv file\n",
    "    df_params1 = pd.read_csv(data_loc + f'\\\\parameters\\\\model1\\\\tv params {company}.csv')\n",
    "    df_params2 = pd.read_csv(data_loc + f'\\\\parameters\\\\model2\\\\tv params {company}.csv')\n",
    "    df_params3 = pd.read_csv(data_loc + f'\\\\parameters\\\\model3\\\\tv params {company}.csv')\n",
    "    \n",
    "    # Compile errors in parentheses\n",
    "    errors1 = df_params1['errors'].apply(lambda x: '%.1e' % x).apply(lambda x: f' ({x})')\n",
    "    \n",
    "    # Get p-value based on t-statistic\n",
    "    p = df_params1['t-stat'].apply(lambda x: ''.join(['*' for alpha in [0.1, 0.05, 0.01] if abs(x) >= norm.ppf(1-alpha)]))    \n",
    "    df_params = pd.DataFrame(columns = ['param names', f'psi_hat_{company}'])\n",
    "    \n",
    "    # Create DataFrame with errors in brackets under estimates, starts indicating the significance\n",
    "    for j in range(len(df_params1)):\n",
    "        df_params.loc[len(df_params)] = [df_params1.iloc[j]['param names'], \n",
    "                                         df_params1.iloc[j]['psi_hat'].round(3).astype(str) + p[j]]\n",
    "        df_params.loc[len(df_params)] = ['error_' + df_params1.iloc[j]['param names'], errors1[j]]\n",
    "            \n",
    "    df_params1 = df_params\n",
    "    \n",
    "    # Compile errors in parentheses\n",
    "    errors2 = df_params2['errors'].apply(lambda x: '%.1e' % x).apply(lambda x: f' ({x})')\n",
    "    \n",
    "    # Get p-value based on t-statistic\n",
    "    p = df_params2['t-stat'].apply(lambda x: ''.join(['*' for alpha in [0.1, 0.05, 0.01] if abs(x) >= norm.ppf(1-alpha)]))\n",
    "    df_params = pd.DataFrame(columns = ['param names', f'psi_hat_{company}'])\n",
    "    \n",
    "    # Create DataFrame with errors in brackets under estimates, starts indicating the significance\n",
    "    for j in range(len(df_params2)):\n",
    "        df_params.loc[len(df_params)] = [df_params2.iloc[j]['param names'], \n",
    "                                         df_params2.iloc[j]['psi_hat'].round(3).astype(str) + p[j]]\n",
    "        df_params.loc[len(df_params)] = ['error_' + df_params2.iloc[j]['param names'], errors2[j]]\n",
    "            \n",
    "    df_params2 = df_params\n",
    "   \n",
    "    # Compile errors in parentheses\n",
    "    errors3 = df_params3['errors'].apply(lambda x: '%.1e' % x).apply(lambda x:  f' ({x})')\n",
    "    \n",
    "    # Get p-value based on t-statistic\n",
    "    p = df_params3['t-stat'].apply(lambda x: ''.join(['*' for alpha in [0.1, 0.05, 0.01] if abs(x) >= norm.ppf(1-alpha)])) \n",
    "    df_params = pd.DataFrame(columns = ['param names', f'psi_hat_{company}'])\n",
    "    \n",
    "    # Create DataFrame with errors in brackets under estimates, starts indicating the significance\n",
    "    for j in range(len(df_params3)):\n",
    "        df_params.loc[len(df_params)] = [df_params3.iloc[j]['param names'], \n",
    "                                         df_params3.iloc[j]['psi_hat'].round(3).astype(str) + p[j]]\n",
    "        df_params.loc[len(df_params)] = ['error_' + df_params3.iloc[j]['param names'], errors3[j]]\n",
    "            \n",
    "    df_params3 = df_params\n",
    "    \n",
    "    if i == 0:        \n",
    "        df_psi_hat_1 = df_params1\n",
    "        df_psi_hat_2 = df_params2\n",
    "        df_psi_hat_3 = df_params3\n",
    "    else:\n",
    "        df_psi_hat_1 = df_psi_hat_1.merge(df_params1[['param names', f'psi_hat_{company}']], \n",
    "                                          on='param names', \n",
    "                                          how='outer') \n",
    "\n",
    "        df_psi_hat_2 = df_psi_hat_2.merge(df_params2[['param names', f'psi_hat_{company}']], \n",
    "                                          on='param names', \n",
    "                                          how='outer')\n",
    "    \n",
    "\n",
    "        df_psi_hat_3 = df_psi_hat_3.merge(df_params3[['param names', f'psi_hat_{company}']], \n",
    "                                          on='param names', \n",
    "                                          how='outer')\n",
    "        \n",
    "    # Save DataFrames to .csv\n",
    "    df_psi_hat_1.to_csv(data_loc + f'\\\\parameters\\\\tv params model1.csv')\n",
    "    df_psi_hat_2.to_csv(data_loc + f'\\\\parameters\\\\tv params model2.csv')\n",
    "    df_psi_hat_3.to_csv(data_loc + f'\\\\parameters\\\\tv params model3.csv')"
   ]
  },
  {
   "cell_type": "markdown",
   "metadata": {},
   "source": [
    "---------\n",
    "---------"
   ]
  }
 ],
 "metadata": {
  "kernelspec": {
   "display_name": "Python 3",
   "language": "python",
   "name": "python3"
  },
  "language_info": {
   "codemirror_mode": {
    "name": "ipython",
    "version": 3
   },
   "file_extension": ".py",
   "mimetype": "text/x-python",
   "name": "python",
   "nbconvert_exporter": "python",
   "pygments_lexer": "ipython3",
   "version": "3.8.8"
  }
 },
 "nbformat": 4,
 "nbformat_minor": 4
}
